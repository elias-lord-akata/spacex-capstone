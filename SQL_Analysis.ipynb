{
 "cells": [
  {
   "cell_type": "markdown",
   "id": "aa1cb0c3",
   "metadata": {},
   "source": [
    "# SpaceX SQL Analysis\n",
    "By Elias Akata"
   ]
  },
  {
   "cell_type": "code",
   "execution_count": null,
   "id": "b050aae9",
   "metadata": {},
   "outputs": [],
   "source": [
    "import pandas as pd\n",
    "import sqlite3\n",
    "\n",
    "# Load dataset (replace with actual file path if not in the same directory)\n",
    "df = pd.read_csv('spacex_launch_data.csv')\n",
    "\n",
    "# Create an in-memory SQLite database\n",
    "conn = sqlite3.connect(':memory:')\n",
    "df.to_sql('SPACEXTBL', conn, index=False, if_exists='replace')\n"
   ]
  },
  {
   "cell_type": "markdown",
   "id": "aad78602",
   "metadata": {},
   "source": [
    "## Query 1: Retrieve up to 20 records"
   ]
  },
  {
   "cell_type": "code",
   "execution_count": null,
   "id": "c6f14cd0",
   "metadata": {},
   "outputs": [],
   "source": [
    "pd.read_sql('SELECT * FROM SPACEXTBL LIMIT 20', conn)"
   ]
  },
  {
   "cell_type": "markdown",
   "id": "e21b375a",
   "metadata": {},
   "source": [
    "## Query 2: Minimum Payload Mass"
   ]
  },
  {
   "cell_type": "code",
   "execution_count": null,
   "id": "6ec37b03",
   "metadata": {},
   "outputs": [],
   "source": [
    "pd.read_sql('SELECT min(PayloadMass) FROM SPACEXTBL', conn)"
   ]
  },
  {
   "cell_type": "markdown",
   "id": "e4864346",
   "metadata": {},
   "source": [
    "## Query 3: Total Payload Mass with Alias"
   ]
  },
  {
   "cell_type": "code",
   "execution_count": null,
   "id": "02f9ff41",
   "metadata": {},
   "outputs": [],
   "source": [
    "pd.read_sql('SELECT sum(PayloadMass) AS Total_Payload_Mass FROM SPACEXTBL', conn)\n"
   ]
  },
  {
   "cell_type": "markdown",
   "id": "deb04a63",
   "metadata": {},
   "source": [
    "## Query 4: Mission Outcome Counts by Launch Site"
   ]
  },
  {
   "cell_type": "code",
   "execution_count": null,
   "id": "3037f96b",
   "metadata": {},
   "outputs": [],
   "source": [
    "pd.read_sql('SELECT LaunchSite, count(Class) AS Mission_Outcome_Count FROM SPACEXTBL GROUP BY LaunchSite', conn)\n"
   ]
  },
  {
   "cell_type": "markdown",
   "id": "b7c02077",
   "metadata": {},
   "source": [
    "## Query 5: Unique Launch Sites"
   ]
  },
  {
   "cell_type": "code",
   "execution_count": null,
   "id": "fb13e055",
   "metadata": {},
   "outputs": [],
   "source": [
    "pd.read_sql('SELECT DISTINCT LaunchSite FROM SPACEXTBL', conn)\n"
   ]
  }
 ],
 "metadata": {},
 "nbformat": 4,
 "nbformat_minor": 5
}
