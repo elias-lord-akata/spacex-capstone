{
 "cells": [
  {
   "cell_type": "markdown",
   "id": "ca0d4977",
   "metadata": {},
   "source": [
    "# SpaceX Launch Sites Map with Folium\n",
    "By Elias Akata"
   ]
  },
  {
   "cell_type": "code",
   "execution_count": null,
   "id": "494f56df",
   "metadata": {},
   "outputs": [],
   "source": [
    "import pandas as pd\n",
    "import folium\n",
    "from folium.plugins import MarkerCluster\n",
    "\n",
    "# Load the dataset\n",
    "df = pd.read_csv('spacex_launch_data.csv')\n",
    "df.head()\n"
   ]
  },
  {
   "cell_type": "markdown",
   "id": "338318a1",
   "metadata": {},
   "source": [
    "## Create a Folium Map Centered Around Launch Sites"
   ]
  },
  {
   "cell_type": "code",
   "execution_count": null,
   "id": "f0d1e58f",
   "metadata": {},
   "outputs": [],
   "source": [
    "# Define the initial map centered around Florida\n",
    "launch_map = folium.Map(location=[28.5, -80.5], zoom_start=5)\n",
    "\n",
    "# Use MarkerCluster to cluster nearby launch points\n",
    "marker_cluster = MarkerCluster().add_to(launch_map)\n",
    "\n",
    "# Loop through the dataframe and add launch site markers\n",
    "for _, row in df.iterrows():\n",
    "    folium.Marker(\n",
    "        location=[row['Lat'], row['Long']],\n",
    "        popup=f\"Site: {row['LaunchSite']}\\nClass: {row['Class']}\",\n",
    "        icon=folium.Icon(color='green' if row['Class'] == 1 else 'red')\n",
    "    ).add_to(marker_cluster)\n",
    "\n",
    "launch_map\n"
   ]
  }
 ],
 "metadata": {},
 "nbformat": 4,
 "nbformat_minor": 5
}
