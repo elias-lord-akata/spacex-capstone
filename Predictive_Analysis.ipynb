{
 "cells": [
  {
   "cell_type": "markdown",
   "id": "395b12ea",
   "metadata": {},
   "source": [
    "# SpaceX Predictive Analysis (Classification)\n",
    "By Elias Akata"
   ]
  },
  {
   "cell_type": "code",
   "execution_count": null,
   "id": "2305174d",
   "metadata": {},
   "outputs": [],
   "source": [
    "import pandas as pd\n",
    "from sklearn.model_selection import train_test_split\n",
    "from sklearn.preprocessing import StandardScaler\n",
    "from sklearn.metrics import accuracy_score, classification_report\n",
    "from sklearn.tree import DecisionTreeClassifier\n",
    "from sklearn.svm import SVC\n",
    "\n",
    "# Load dataset\n",
    "df = pd.read_csv('spacex_launch_data.csv')\n",
    "df.head()\n"
   ]
  },
  {
   "cell_type": "markdown",
   "id": "95da53fc",
   "metadata": {},
   "source": [
    "## Feature Selection and Preprocessing"
   ]
  },
  {
   "cell_type": "code",
   "execution_count": null,
   "id": "289ee81f",
   "metadata": {},
   "outputs": [],
   "source": [
    "# Example features and target\n",
    "features = ['FlightNumber', 'PayloadMass', 'Block', 'ReusedCount']\n",
    "X = df[features]\n",
    "y = df['Class']\n",
    "\n",
    "# Normalize features\n",
    "scaler = StandardScaler()\n",
    "X_scaled = scaler.fit_transform(X)\n",
    "\n",
    "# Split dataset\n",
    "X_train, X_test, y_train, y_test = train_test_split(X_scaled, y, test_size=0.2, random_state=42)\n"
   ]
  },
  {
   "cell_type": "markdown",
   "id": "e1dfc920",
   "metadata": {},
   "source": [
    "## Decision Tree Classifier"
   ]
  },
  {
   "cell_type": "code",
   "execution_count": null,
   "id": "871e2226",
   "metadata": {},
   "outputs": [],
   "source": [
    "dt = DecisionTreeClassifier(random_state=42)\n",
    "dt.fit(X_train, y_train)\n",
    "y_pred_dt = dt.predict(X_test)\n",
    "\n",
    "print(\"Decision Tree Accuracy:\", accuracy_score(y_test, y_pred_dt))\n",
    "print(classification_report(y_test, y_pred_dt))\n"
   ]
  },
  {
   "cell_type": "markdown",
   "id": "2d42ca8d",
   "metadata": {},
   "source": [
    "## Support Vector Machine (RBF Kernel)"
   ]
  },
  {
   "cell_type": "code",
   "execution_count": null,
   "id": "f7b9c8b4",
   "metadata": {},
   "outputs": [],
   "source": [
    "svm_rbf = SVC(kernel='rbf')\n",
    "svm_rbf.fit(X_train, y_train)\n",
    "y_pred_svm = svm_rbf.predict(X_test)\n",
    "\n",
    "print(\"SVM (RBF) Accuracy:\", accuracy_score(y_test, y_pred_svm))\n",
    "print(classification_report(y_test, y_pred_svm))\n"
   ]
  }
 ],
 "metadata": {},
 "nbformat": 4,
 "nbformat_minor": 5
}
