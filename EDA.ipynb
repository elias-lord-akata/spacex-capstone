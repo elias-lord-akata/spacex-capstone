{
 "cells": [
  {
   "cell_type": "markdown",
   "id": "0544a358",
   "metadata": {},
   "source": [
    "# SpaceX Falcon 9 EDA\n",
    "By Elias Akata"
   ]
  },
  {
   "cell_type": "code",
   "execution_count": null,
   "id": "164b3970",
   "metadata": {},
   "outputs": [],
   "source": [
    "\n",
    "import pandas as pd\n",
    "import matplotlib.pyplot as plt\n",
    "import seaborn as sns\n",
    "\n",
    "# Load data\n",
    "df = pd.read_csv('spacex_launch_data.csv')\n",
    "df.head()\n"
   ]
  },
  {
   "cell_type": "markdown",
   "id": "63bf6c17",
   "metadata": {},
   "source": [
    "## Dataset Overview"
   ]
  },
  {
   "cell_type": "code",
   "execution_count": null,
   "id": "66886b00",
   "metadata": {},
   "outputs": [],
   "source": [
    "df.info()"
   ]
  },
  {
   "cell_type": "code",
   "execution_count": null,
   "id": "b56bf977",
   "metadata": {},
   "outputs": [],
   "source": [
    "df.describe()"
   ]
  },
  {
   "cell_type": "markdown",
   "id": "88afe6cf",
   "metadata": {},
   "source": [
    "## Launch Outcome Distribution"
   ]
  },
  {
   "cell_type": "code",
   "execution_count": null,
   "id": "2da33871",
   "metadata": {},
   "outputs": [],
   "source": [
    "\n",
    "sns.countplot(x='Class', data=df)\n",
    "plt.title(\"Launch Outcome (0 = Failure, 1 = Success)\")\n",
    "plt.show()\n"
   ]
  },
  {
   "cell_type": "markdown",
   "id": "581a24f2",
   "metadata": {},
   "source": [
    "## Payload Mass Distribution"
   ]
  },
  {
   "cell_type": "code",
   "execution_count": null,
   "id": "b4d344ad",
   "metadata": {},
   "outputs": [],
   "source": [
    "\n",
    "sns.histplot(df['PayloadMass'], bins=20, kde=True)\n",
    "plt.title(\"Distribution of Payload Mass\")\n",
    "plt.xlabel(\"Payload Mass (kg)\")\n",
    "plt.show()\n"
   ]
  },
  {
   "cell_type": "markdown",
   "id": "6ff88f65",
   "metadata": {},
   "source": [
    "## Success Rate per Launch Site"
   ]
  },
  {
   "cell_type": "code",
   "execution_count": null,
   "id": "1ad333d9",
   "metadata": {},
   "outputs": [],
   "source": [
    "\n",
    "site_success = df.groupby('LaunchSite')['Class'].mean().sort_values(ascending=False)\n",
    "site_success.plot(kind='bar', color='skyblue')\n",
    "plt.title(\"Launch Success Rate by Site\")\n",
    "plt.ylabel(\"Success Rate\")\n",
    "plt.show()\n"
   ]
  },
  {
   "cell_type": "markdown",
   "id": "217e6dec",
   "metadata": {},
   "source": [
    "## Booster Version Success Rate"
   ]
  },
  {
   "cell_type": "code",
   "execution_count": null,
   "id": "b7373365",
   "metadata": {},
   "outputs": [],
   "source": [
    "\n",
    "booster_success = df.groupby('BoosterVersion')['Class'].mean().sort_values(ascending=False)\n",
    "booster_success.plot(kind='bar', color='salmon')\n",
    "plt.title(\"Booster Version Success Rate\")\n",
    "plt.ylabel(\"Success Rate\")\n",
    "plt.xticks(rotation=45)\n",
    "plt.show()\n"
   ]
  }
 ],
 "metadata": {},
 "nbformat": 4,
 "nbformat_minor": 5
}
