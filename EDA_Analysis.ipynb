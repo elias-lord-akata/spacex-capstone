{
 "cells": [
  {
   "cell_type": "markdown",
   "id": "766f5fa8",
   "metadata": {},
   "source": [
    "# SpaceX Exploratory Data Analysis\n",
    "By Elias Akata"
   ]
  },
  {
   "cell_type": "code",
   "execution_count": null,
   "id": "04a3bf08",
   "metadata": {},
   "outputs": [],
   "source": [
    "import pandas as pd\n",
    "import matplotlib.pyplot as plt\n",
    "import seaborn as sns\n",
    "\n",
    "# Load dataset\n",
    "df = pd.read_csv('spacex_launch_data.csv')\n",
    "df.head()\n"
   ]
  },
  {
   "cell_type": "markdown",
   "id": "b7e280ab",
   "metadata": {},
   "source": [
    "## Dataset Information"
   ]
  },
  {
   "cell_type": "code",
   "execution_count": null,
   "id": "7fbef0cf",
   "metadata": {},
   "outputs": [],
   "source": [
    "df.info()"
   ]
  },
  {
   "cell_type": "markdown",
   "id": "5fe8a610",
   "metadata": {},
   "source": [
    "## Checking for Missing Values"
   ]
  },
  {
   "cell_type": "code",
   "execution_count": null,
   "id": "317e8ba3",
   "metadata": {},
   "outputs": [],
   "source": [
    "df.isnull().sum()"
   ]
  },
  {
   "cell_type": "markdown",
   "id": "bbdabf7a",
   "metadata": {},
   "source": [
    "## Correlation Heatmap"
   ]
  },
  {
   "cell_type": "code",
   "execution_count": null,
   "id": "5cbd4aae",
   "metadata": {},
   "outputs": [],
   "source": [
    "plt.figure(figsize=(12, 8))\n",
    "sns.heatmap(df.corr(), annot=True, cmap='coolwarm')\n",
    "plt.title('Feature Correlation Heatmap')\n",
    "plt.show()\n"
   ]
  },
  {
   "cell_type": "markdown",
   "id": "fa92d300",
   "metadata": {},
   "source": [
    "## Distribution of Payload Mass"
   ]
  },
  {
   "cell_type": "code",
   "execution_count": null,
   "id": "614854be",
   "metadata": {},
   "outputs": [],
   "source": [
    "plt.figure(figsize=(10, 6))\n",
    "sns.histplot(df['PayloadMass'], bins=20, kde=True)\n",
    "plt.title('Payload Mass Distribution')\n",
    "plt.xlabel('Payload Mass (kg)')\n",
    "plt.ylabel('Frequency')\n",
    "plt.show()\n"
   ]
  },
  {
   "cell_type": "markdown",
   "id": "02e8a190",
   "metadata": {},
   "source": [
    "## Launch Outcome Counts"
   ]
  },
  {
   "cell_type": "code",
   "execution_count": null,
   "id": "6e0d8e83",
   "metadata": {},
   "outputs": [],
   "source": [
    "sns.countplot(x='Class', data=df)\n",
    "plt.title('Launch Outcome Counts')\n",
    "plt.xlabel('Outcome')\n",
    "plt.ylabel('Count')\n",
    "plt.show()\n"
   ]
  }
 ],
 "metadata": {},
 "nbformat": 4,
 "nbformat_minor": 5
}
